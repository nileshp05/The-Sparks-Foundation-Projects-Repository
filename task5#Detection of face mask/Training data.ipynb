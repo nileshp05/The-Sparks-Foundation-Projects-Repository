{
 "cells": [
  {
   "cell_type": "markdown",
   "metadata": {},
   "source": [
    "# The Sparks Foundation: Graduate Rotational Internship Program\n",
    "## Name: Nilesh Pendharkar\n",
    "## Data Science & Business Analytics Intern at The Sparks Foundation"
   ]
  },
  {
   "cell_type": "markdown",
   "metadata": {},
   "source": [
    "# Task 5: Detection of face mask\n",
    "## *Implement a real time face mask detector*"
   ]
  },
  {
   "cell_type": "markdown",
   "metadata": {},
   "source": [
    "## Importing all neccessary modules"
   ]
  },
  {
   "cell_type": "code",
   "execution_count": 1,
   "metadata": {},
   "outputs": [],
   "source": [
    "from tensorflow.keras.preprocessing.image import ImageDataGenerator\n",
    "from tensorflow.keras.applications import MobileNetV2\n",
    "from tensorflow.keras.layers import AveragePooling2D\n",
    "from tensorflow.keras.layers import Dropout\n",
    "from tensorflow.keras.layers import Flatten\n",
    "from tensorflow.keras.layers import Dense\n",
    "from tensorflow.keras.layers import Input\n",
    "from tensorflow.keras.models import Model\n",
    "from tensorflow.keras.optimizers import Adam\n",
    "from tensorflow.keras.applications.mobilenet_v2 import preprocess_input\n",
    "from tensorflow.keras.preprocessing.image import img_to_array\n",
    "from tensorflow.keras.preprocessing.image import load_img\n",
    "from tensorflow.keras.utils import to_categorical\n",
    "from sklearn.preprocessing import LabelBinarizer\n",
    "from sklearn.model_selection import train_test_split\n",
    "from sklearn.metrics import classification_report\n",
    "from imutils import paths\n",
    "import matplotlib.pyplot as plt\n",
    "import numpy as np\n",
    "import os"
   ]
  },
  {
   "cell_type": "code",
   "execution_count": 2,
   "metadata": {},
   "outputs": [],
   "source": [
    "INIT_LR=1e-4 #Initial Learning rate\n",
    "EPOCHS=20  #Epochs\n",
    "BS=32  #Batch size"
   ]
  },
  {
   "cell_type": "markdown",
   "metadata": {},
   "source": [
    "## Assigning the path to dataset"
   ]
  },
  {
   "cell_type": "code",
   "execution_count": 3,
   "metadata": {},
   "outputs": [],
   "source": [
    "Dataset = r\"D:\\DATA SCIENCE FILES\\Jupyter_files\\Projects\\The Sparks Foundation projects\\Color Identification Project\\Detection of face mask\\FaceMaskDetector-main\\Dataset\"\n",
    "CATEGORIES = [\"with_mask\", \"without_mask\"]"
   ]
  },
  {
   "cell_type": "code",
   "execution_count": 4,
   "metadata": {},
   "outputs": [],
   "source": [
    "data = []\n",
    "labels = []\n",
    "\n",
    "for category in CATEGORIES:\n",
    "    path=os.path.join(Dataset, category)\n",
    "    for img in os.listdir(path):\n",
    "        img_path=os.path.join(path, img)\n",
    "        image=load_img(img_path, target_size=(224, 224))\n",
    "        image=img_to_array(image)\n",
    "        image=preprocess_input(image)\n",
    "\n",
    "        data.append(image)\n",
    "        labels.append(category)"
   ]
  },
  {
   "cell_type": "markdown",
   "metadata": {},
   "source": [
    "## Train-Test Split of data"
   ]
  },
  {
   "cell_type": "code",
   "execution_count": 5,
   "metadata": {},
   "outputs": [],
   "source": [
    "lb=LabelBinarizer()\n",
    "labels=lb.fit_transform(labels)\n",
    "labels=to_categorical(labels)\n",
    "\n",
    "data=np.array(data, dtype=\"float32\")\n",
    "labels=np.array(labels)\n",
    "\n",
    "(X_train, X_test, Y_train, Y_test) = train_test_split(data, labels,test_size=0.20, stratify=labels, random_state=42)"
   ]
  },
  {
   "cell_type": "code",
   "execution_count": 6,
   "metadata": {},
   "outputs": [],
   "source": [
    "#Augmentation\n",
    "augmentation=ImageDataGenerator(rotation_range=20,zoom_range=0.15,width_shift_range=0.2,height_shift_range=0.2,shear_range=0.15,horizontal_flip=True,fill_mode=\"nearest\")"
   ]
  },
  {
   "cell_type": "code",
   "execution_count": 7,
   "metadata": {},
   "outputs": [
    {
     "name": "stdout",
     "output_type": "stream",
     "text": [
      "WARNING:tensorflow:`input_shape` is undefined or non-square, or `rows` is not in [96, 128, 160, 192, 224]. Weights for input shape (224, 224) will be loaded as the default.\n"
     ]
    }
   ],
   "source": [
    "#Base model using MobileNet instead of convolutional layer\n",
    "baseModel=MobileNetV2(weights=\"imagenet\", include_top=False,input_tensor=Input(shape=(224, 224, 3)))"
   ]
  },
  {
   "cell_type": "code",
   "execution_count": 8,
   "metadata": {},
   "outputs": [],
   "source": [
    "#Basic Neural Network with MaxPooling layers \n",
    "headModel=baseModel.output\n",
    "headModel=AveragePooling2D(pool_size=(7, 7))(headModel)\n",
    "headModel=Flatten(name=\"flatten\")(headModel)\n",
    "headModel=Dense(128, activation=\"relu\")(headModel)\n",
    "headModel=Dropout(0.5)(headModel)\n",
    "headModel=Dense(2, activation=\"softmax\")(headModel)"
   ]
  },
  {
   "cell_type": "markdown",
   "metadata": {},
   "source": [
    "## Buiding the model"
   ]
  },
  {
   "cell_type": "code",
   "execution_count": 9,
   "metadata": {},
   "outputs": [],
   "source": [
    "#The final model\n",
    "model=Model(inputs=baseModel.input, outputs=headModel)"
   ]
  },
  {
   "cell_type": "code",
   "execution_count": 10,
   "metadata": {},
   "outputs": [
    {
     "name": "stdout",
     "output_type": "stream",
     "text": [
      "[INFO] compiling model...\n"
     ]
    },
    {
     "name": "stderr",
     "output_type": "stream",
     "text": [
      "C:\\Users\\Mahesh\\anaconda3\\lib\\site-packages\\tensorflow\\python\\keras\\optimizer_v2\\optimizer_v2.py:374: UserWarning: The `lr` argument is deprecated, use `learning_rate` instead.\n",
      "  warnings.warn(\n"
     ]
    }
   ],
   "source": [
    "for layer in baseModel.layers:\n",
    "    layer.trainable = False\n",
    "print(\"[INFO] compiling model...\")\n",
    "opt = Adam(lr=INIT_LR, decay=INIT_LR / EPOCHS)\n",
    "model.compile(loss=\"binary_crossentropy\", optimizer=opt,metrics=[\"accuracy\"])"
   ]
  },
  {
   "cell_type": "markdown",
   "metadata": {},
   "source": [
    "## Training the model"
   ]
  },
  {
   "cell_type": "code",
   "execution_count": 11,
   "metadata": {},
   "outputs": [
    {
     "name": "stdout",
     "output_type": "stream",
     "text": [
      "[INFO] training model...\n",
      "Epoch 1/20\n",
      "2/2 [==============================] - 12s 1s/step - loss: 0.8725 - accuracy: 0.6364\n",
      "Epoch 2/20\n",
      "2/2 [==============================] - 3s 806ms/step - loss: 0.7068 - accuracy: 0.6591\n",
      "Epoch 3/20\n",
      "2/2 [==============================] - 3s 2s/step - loss: 0.7664 - accuracy: 0.5227\n",
      "Epoch 4/20\n",
      "2/2 [==============================] - 3s 808ms/step - loss: 0.6883 - accuracy: 0.6364\n",
      "Epoch 5/20\n",
      "2/2 [==============================] - 3s 835ms/step - loss: 0.6629 - accuracy: 0.6591\n",
      "Epoch 6/20\n",
      "2/2 [==============================] - 3s 830ms/step - loss: 0.6929 - accuracy: 0.6136\n",
      "Epoch 7/20\n",
      "2/2 [==============================] - 4s 3s/step - loss: 0.5850 - accuracy: 0.8182\n",
      "Epoch 8/20\n",
      "2/2 [==============================] - 3s 789ms/step - loss: 0.5966 - accuracy: 0.7727\n",
      "Epoch 9/20\n",
      "2/2 [==============================] - 5s 2s/step - loss: 0.5347 - accuracy: 0.8750\n",
      "Epoch 10/20\n",
      "2/2 [==============================] - 4s 856ms/step - loss: 0.5813 - accuracy: 0.7273\n",
      "Epoch 11/20\n",
      "2/2 [==============================] - 4s 821ms/step - loss: 0.3632 - accuracy: 0.9773\n",
      "Epoch 12/20\n",
      "2/2 [==============================] - 3s 801ms/step - loss: 0.3885 - accuracy: 0.9318\n",
      "Epoch 13/20\n",
      "2/2 [==============================] - 3s 799ms/step - loss: 0.3565 - accuracy: 0.9545\n",
      "Epoch 14/20\n",
      "2/2 [==============================] - 3s 792ms/step - loss: 0.4853 - accuracy: 0.8636\n",
      "Epoch 15/20\n",
      "2/2 [==============================] - 5s 2s/step - loss: 0.3503 - accuracy: 0.9375\n",
      "Epoch 16/20\n",
      "2/2 [==============================] - 3s 2s/step - loss: 0.3845 - accuracy: 0.9318\n",
      "Epoch 17/20\n",
      "2/2 [==============================] - 3s 2s/step - loss: 0.3896 - accuracy: 0.8864\n",
      "Epoch 18/20\n",
      "2/2 [==============================] - 5s 2s/step - loss: 0.3641 - accuracy: 0.9219\n",
      "Epoch 19/20\n",
      "2/2 [==============================] - 3s 797ms/step - loss: 0.3058 - accuracy: 0.9773\n",
      "Epoch 20/20\n",
      "2/2 [==============================] - 3s 2s/step - loss: 0.2511 - accuracy: 0.9545\n"
     ]
    }
   ],
   "source": [
    "print(\"[INFO] training model...\")\n",
    "H = model.fit(augmentation.flow(X_train, Y_train, batch_size=BS),steps_per_epoch=len(X_train) // BS,validation_data=(X_test, Y_test),validation_steps=len(X_test) // BS,epochs=EPOCHS)"
   ]
  },
  {
   "cell_type": "code",
   "execution_count": 12,
   "metadata": {},
   "outputs": [
    {
     "name": "stdout",
     "output_type": "stream",
     "text": [
      "[INFO] evaluating network...\n"
     ]
    }
   ],
   "source": [
    "print(\"[INFO] evaluating network...\")\n",
    "predIdxs = model.predict(X_test, batch_size=BS)\n",
    "predIdxs = np.argmax(predIdxs, axis=1)"
   ]
  },
  {
   "cell_type": "code",
   "execution_count": 13,
   "metadata": {},
   "outputs": [
    {
     "name": "stdout",
     "output_type": "stream",
     "text": [
      "[INFO] saving mask detector model...\n"
     ]
    },
    {
     "name": "stderr",
     "output_type": "stream",
     "text": [
      "C:\\Users\\Mahesh\\anaconda3\\lib\\site-packages\\tensorflow\\python\\keras\\utils\\generic_utils.py:494: CustomMaskWarning: Custom mask layers require a config and must override get_config. When loading, the custom mask layer must be passed to the custom_objects argument.\n",
      "  warnings.warn('Custom mask layers require a config and must override '\n"
     ]
    }
   ],
   "source": [
    "print(\"[INFO] saving mask detector model...\")\n",
    "model.save(\"mask_detector.model\", save_format=\"h5\")"
   ]
  }
 ],
 "metadata": {
  "kernelspec": {
   "display_name": "Python 3",
   "language": "python",
   "name": "python3"
  },
  "language_info": {
   "codemirror_mode": {
    "name": "ipython",
    "version": 3
   },
   "file_extension": ".py",
   "mimetype": "text/x-python",
   "name": "python",
   "nbconvert_exporter": "python",
   "pygments_lexer": "ipython3",
   "version": "3.8.5"
  }
 },
 "nbformat": 4,
 "nbformat_minor": 5
}
