{
 "cells": [
  {
   "cell_type": "code",
   "execution_count": 1,
   "metadata": {},
   "outputs": [],
   "source": [
    "from tensorflow.keras.preprocessing.image import ImageDataGenerator\n",
    "from tensorflow.keras.applications import MobileNetV2\n",
    "from tensorflow.keras.layers import AveragePooling2D\n",
    "from tensorflow.keras.layers import Dropout\n",
    "from tensorflow.keras.layers import Flatten\n",
    "from tensorflow.keras.layers import Dense\n",
    "from tensorflow.keras.layers import Input\n",
    "from tensorflow.keras.models import Model\n",
    "from tensorflow.keras.optimizers import Adam\n",
    "from tensorflow.keras.applications.mobilenet_v2 import preprocess_input\n",
    "from tensorflow.keras.preprocessing.image import img_to_array\n",
    "from tensorflow.keras.preprocessing.image import load_img\n",
    "from tensorflow.keras.utils import to_categorical\n",
    "from sklearn.preprocessing import LabelBinarizer\n",
    "from sklearn.model_selection import train_test_split\n",
    "from sklearn.metrics import classification_report\n",
    "from imutils import paths\n",
    "import matplotlib.pyplot as plt\n",
    "import numpy as np\n",
    "import os"
   ]
  },
  {
   "cell_type": "code",
   "execution_count": 2,
   "metadata": {},
   "outputs": [],
   "source": [
    "INIT_LR=1e-4 #Initial Learning rate\n",
    "EPOCHS=20  #Epochs\n",
    "BS=32  #Batch size"
   ]
  },
  {
   "cell_type": "code",
   "execution_count": 5,
   "metadata": {},
   "outputs": [],
   "source": [
    "Dataset = r\"D:\\DATA SCIENCE FILES\\Jupyter_files\\Projects\\The Sparks Foundation projects\\Color Identification Project\\Detection of face mask\\FaceMaskDetector-main\\Dataset\"\n",
    "CATEGORIES = [\"with_mask\", \"without_mask\"]"
   ]
  },
  {
   "cell_type": "code",
   "execution_count": 6,
   "metadata": {},
   "outputs": [],
   "source": [
    "data = []\n",
    "labels = []\n",
    "\n",
    "for category in CATEGORIES:\n",
    "    path=os.path.join(Dataset, category)\n",
    "    for img in os.listdir(path):\n",
    "        img_path=os.path.join(path, img)\n",
    "        image=load_img(img_path, target_size=(224, 224))\n",
    "        image=img_to_array(image)\n",
    "        image=preprocess_input(image)\n",
    "\n",
    "        data.append(image)\n",
    "        labels.append(category)"
   ]
  },
  {
   "cell_type": "code",
   "execution_count": 7,
   "metadata": {},
   "outputs": [],
   "source": [
    "lb=LabelBinarizer()\n",
    "labels=lb.fit_transform(labels)\n",
    "labels=to_categorical(labels)\n",
    "\n",
    "data=np.array(data, dtype=\"float32\")\n",
    "labels=np.array(labels)\n",
    "\n",
    "(X_train, X_test, Y_train, Y_test) = train_test_split(data, labels,test_size=0.20, stratify=labels, random_state=42)"
   ]
  },
  {
   "cell_type": "code",
   "execution_count": 8,
   "metadata": {},
   "outputs": [],
   "source": [
    "#Augmentation\n",
    "augmentation=ImageDataGenerator(rotation_range=20,zoom_range=0.15,width_shift_range=0.2,height_shift_range=0.2,shear_range=0.15,horizontal_flip=True,fill_mode=\"nearest\")"
   ]
  },
  {
   "cell_type": "code",
   "execution_count": 9,
   "metadata": {},
   "outputs": [
    {
     "name": "stdout",
     "output_type": "stream",
     "text": [
      "WARNING:tensorflow:`input_shape` is undefined or non-square, or `rows` is not in [96, 128, 160, 192, 224]. Weights for input shape (224, 224) will be loaded as the default.\n",
      "Downloading data from https://storage.googleapis.com/tensorflow/keras-applications/mobilenet_v2/mobilenet_v2_weights_tf_dim_ordering_tf_kernels_1.0_224_no_top.h5\n",
      "9412608/9406464 [==============================] - 5s 1us/step\n"
     ]
    }
   ],
   "source": [
    "#Base model using MobileNet instead of convolutional layer\n",
    "baseModel=MobileNetV2(weights=\"imagenet\", include_top=False,input_tensor=Input(shape=(224, 224, 3)))"
   ]
  },
  {
   "cell_type": "code",
   "execution_count": 10,
   "metadata": {},
   "outputs": [],
   "source": [
    "#Basic Neural Network with MaxPooling layers \n",
    "headModel=baseModel.output\n",
    "headModel=AveragePooling2D(pool_size=(7, 7))(headModel)\n",
    "headModel=Flatten(name=\"flatten\")(headModel)\n",
    "headModel=Dense(128, activation=\"relu\")(headModel)\n",
    "headModel=Dropout(0.5)(headModel)\n",
    "headModel=Dense(2, activation=\"softmax\")(headModel)"
   ]
  },
  {
   "cell_type": "code",
   "execution_count": 11,
   "metadata": {},
   "outputs": [],
   "source": [
    "#The final model\n",
    "model=Model(inputs=baseModel.input, outputs=headModel)"
   ]
  },
  {
   "cell_type": "code",
   "execution_count": 12,
   "metadata": {},
   "outputs": [
    {
     "name": "stdout",
     "output_type": "stream",
     "text": [
      "[INFO] compiling model...\n"
     ]
    },
    {
     "name": "stderr",
     "output_type": "stream",
     "text": [
      "C:\\Users\\Mahesh\\anaconda3\\lib\\site-packages\\tensorflow\\python\\keras\\optimizer_v2\\optimizer_v2.py:374: UserWarning: The `lr` argument is deprecated, use `learning_rate` instead.\n",
      "  warnings.warn(\n"
     ]
    }
   ],
   "source": [
    "for layer in baseModel.layers:\n",
    "    layer.trainable = False\n",
    "print(\"[INFO] compiling model...\")\n",
    "opt = Adam(lr=INIT_LR, decay=INIT_LR / EPOCHS)\n",
    "model.compile(loss=\"binary_crossentropy\", optimizer=opt,metrics=[\"accuracy\"])"
   ]
  },
  {
   "cell_type": "code",
   "execution_count": 13,
   "metadata": {},
   "outputs": [
    {
     "name": "stdout",
     "output_type": "stream",
     "text": [
      "[INFO] training model...\n",
      "Epoch 1/20\n",
      "2/2 [==============================] - 42s 6s/step - loss: 0.9459 - accuracy: 0.5000\n",
      "Epoch 2/20\n",
      "2/2 [==============================] - 4s 963ms/step - loss: 0.8323 - accuracy: 0.5000\n",
      "Epoch 3/20\n",
      "2/2 [==============================] - 4s 3s/step - loss: 0.8464 - accuracy: 0.5000\n",
      "Epoch 4/20\n",
      "2/2 [==============================] - 4s 3s/step - loss: 0.7865 - accuracy: 0.4091\n",
      "Epoch 5/20\n",
      "2/2 [==============================] - 4s 930ms/step - loss: 0.6537 - accuracy: 0.6364\n",
      "Epoch 6/20\n",
      "2/2 [==============================] - 4s 3s/step - loss: 0.6336 - accuracy: 0.6818\n",
      "Epoch 7/20\n",
      "2/2 [==============================] - 4s 964ms/step - loss: 0.5741 - accuracy: 0.7273\n",
      "Epoch 8/20\n",
      "2/2 [==============================] - 5s 2s/step - loss: 0.6055 - accuracy: 0.6875\n",
      "Epoch 9/20\n",
      "2/2 [==============================] - 5s 2s/step - loss: 0.5467 - accuracy: 0.7188\n",
      "Epoch 10/20\n",
      "2/2 [==============================] - 5s 2s/step - loss: 0.5931 - accuracy: 0.7344\n",
      "Epoch 11/20\n",
      "2/2 [==============================] - 4s 3s/step - loss: 0.4750 - accuracy: 0.8636\n",
      "Epoch 12/20\n",
      "2/2 [==============================] - 4s 3s/step - loss: 0.4920 - accuracy: 0.7727\n",
      "Epoch 13/20\n",
      "2/2 [==============================] - 6s 2s/step - loss: 0.4605 - accuracy: 0.8281\n",
      "Epoch 14/20\n",
      "2/2 [==============================] - 4s 3s/step - loss: 0.3668 - accuracy: 0.9318\n",
      "Epoch 15/20\n",
      "2/2 [==============================] - 4s 3s/step - loss: 0.3757 - accuracy: 0.9091\n",
      "Epoch 16/20\n",
      "2/2 [==============================] - 5s 2s/step - loss: 0.3775 - accuracy: 0.9375\n",
      "Epoch 17/20\n",
      "2/2 [==============================] - 4s 3s/step - loss: 0.3194 - accuracy: 0.9545\n",
      "Epoch 18/20\n",
      "2/2 [==============================] - 6s 2s/step - loss: 0.3255 - accuracy: 0.9531\n",
      "Epoch 19/20\n",
      "2/2 [==============================] - 4s 3s/step - loss: 0.3053 - accuracy: 0.9091\n",
      "Epoch 20/20\n",
      "2/2 [==============================] - 4s 3s/step - loss: 0.3514 - accuracy: 0.8864\n"
     ]
    }
   ],
   "source": [
    "print(\"[INFO] training model...\")\n",
    "H = model.fit(augmentation.flow(X_train, Y_train, batch_size=BS),steps_per_epoch=len(X_train) // BS,validation_data=(X_test, Y_test),validation_steps=len(X_test) // BS,epochs=EPOCHS)"
   ]
  },
  {
   "cell_type": "code",
   "execution_count": 14,
   "metadata": {},
   "outputs": [
    {
     "name": "stdout",
     "output_type": "stream",
     "text": [
      "[INFO] evaluating network...\n"
     ]
    }
   ],
   "source": [
    "print(\"[INFO] evaluating network...\")\n",
    "predIdxs = model.predict(X_test, batch_size=BS)\n",
    "predIdxs = np.argmax(predIdxs, axis=1)"
   ]
  },
  {
   "cell_type": "code",
   "execution_count": 15,
   "metadata": {},
   "outputs": [
    {
     "name": "stdout",
     "output_type": "stream",
     "text": [
      "[INFO] saving mask detector model...\n"
     ]
    },
    {
     "name": "stderr",
     "output_type": "stream",
     "text": [
      "C:\\Users\\Mahesh\\anaconda3\\lib\\site-packages\\tensorflow\\python\\keras\\utils\\generic_utils.py:494: CustomMaskWarning: Custom mask layers require a config and must override get_config. When loading, the custom mask layer must be passed to the custom_objects argument.\n",
      "  warnings.warn('Custom mask layers require a config and must override '\n"
     ]
    }
   ],
   "source": [
    "print(\"[INFO] saving mask detector model...\")\n",
    "model.save(\"mask_detector.model\", save_format=\"h5\")"
   ]
  },
  {
   "cell_type": "code",
   "execution_count": null,
   "metadata": {},
   "outputs": [],
   "source": []
  }
 ],
 "metadata": {
  "kernelspec": {
   "display_name": "Python 3",
   "language": "python",
   "name": "python3"
  },
  "language_info": {
   "codemirror_mode": {
    "name": "ipython",
    "version": 3
   },
   "file_extension": ".py",
   "mimetype": "text/x-python",
   "name": "python",
   "nbconvert_exporter": "python",
   "pygments_lexer": "ipython3",
   "version": "3.8.5"
  }
 },
 "nbformat": 4,
 "nbformat_minor": 5
}
